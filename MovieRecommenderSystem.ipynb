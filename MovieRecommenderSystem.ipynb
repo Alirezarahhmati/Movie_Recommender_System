{
  "nbformat": 4,
  "nbformat_minor": 0,
  "metadata": {
    "colab": {
      "provenance": [],
      "authorship_tag": "ABX9TyO2UHVRf7/v0116fsbR01Gb",
      "include_colab_link": true
    },
    "kernelspec": {
      "name": "python3",
      "display_name": "Python 3"
    },
    "language_info": {
      "name": "python"
    }
  },
  "cells": [
    {
      "cell_type": "markdown",
      "metadata": {
        "id": "view-in-github",
        "colab_type": "text"
      },
      "source": [
        "<a href=\"https://colab.research.google.com/github/Alirezarahhmati/Movie_Recommender_System/blob/main/MovieRecommenderSystem.ipynb\" target=\"_parent\"><img src=\"https://colab.research.google.com/assets/colab-badge.svg\" alt=\"Open In Colab\"/></a>"
      ]
    },
    {
      "cell_type": "markdown",
      "source": [
        "# Movie Recommender System"
      ],
      "metadata": {
        "id": "hPxs-IkIIXhU"
      }
    },
    {
      "cell_type": "markdown",
      "source": [
        "## Loading the dataset"
      ],
      "metadata": {
        "id": "7X1xYSETIeCR"
      }
    },
    {
      "cell_type": "code",
      "source": [
        "! kaggle datasets download -d rounakbanik/the-movies-dataset"
      ],
      "metadata": {
        "colab": {
          "base_uri": "https://localhost:8080/"
        },
        "id": "X5Z-Ge47HboN",
        "outputId": "1b64b2f4-99ef-4065-b981-d6a6c77d8b17"
      },
      "execution_count": 22,
      "outputs": [
        {
          "output_type": "stream",
          "name": "stdout",
          "text": [
            "Downloading the-movies-dataset.zip to /content\n",
            " 91% 208M/228M [00:00<00:00, 242MB/s]\n",
            "100% 228M/228M [00:00<00:00, 268MB/s]\n"
          ]
        }
      ]
    },
    {
      "cell_type": "code",
      "source": [
        "! unzip /content/the-movies-dataset.zip -d /content/the_movies_dataset"
      ],
      "metadata": {
        "id": "wLYgWASsHPfB",
        "colab": {
          "base_uri": "https://localhost:8080/"
        },
        "outputId": "a812ec87-1989-45ee-d517-4872f2681595"
      },
      "execution_count": 26,
      "outputs": [
        {
          "output_type": "stream",
          "name": "stdout",
          "text": [
            "Archive:  /content/the-movies-dataset.zip\n",
            "  inflating: /content/the_movies_dataset/credits.csv  \n",
            "  inflating: /content/the_movies_dataset/keywords.csv  \n",
            "  inflating: /content/the_movies_dataset/links.csv  \n",
            "  inflating: /content/the_movies_dataset/links_small.csv  \n",
            "  inflating: /content/the_movies_dataset/movies_metadata.csv  \n",
            "  inflating: /content/the_movies_dataset/ratings.csv  \n",
            "  inflating: /content/the_movies_dataset/ratings_small.csv  \n"
          ]
        }
      ]
    },
    {
      "cell_type": "code",
      "source": [],
      "metadata": {
        "id": "hfd8aGPMHz4f"
      },
      "execution_count": null,
      "outputs": []
    }
  ]
}