{
  "nbformat": 4,
  "nbformat_minor": 0,
  "metadata": {
    "colab": {
      "provenance": [],
      "authorship_tag": "ABX9TyPWAx7EZ7XKRvA2bF5/06xy",
      "include_colab_link": true
    },
    "kernelspec": {
      "name": "python3",
      "display_name": "Python 3"
    },
    "language_info": {
      "name": "python"
    }
  },
  "cells": [
    {
      "cell_type": "markdown",
      "metadata": {
        "id": "view-in-github",
        "colab_type": "text"
      },
      "source": [
        "<a href=\"https://colab.research.google.com/github/Alirezarahhmati/Movie_Recommender_System/blob/Develop/app.ipynb\" target=\"_parent\"><img src=\"https://colab.research.google.com/assets/colab-badge.svg\" alt=\"Open In Colab\"/></a>"
      ]
    },
    {
      "cell_type": "markdown",
      "source": [
        "# Movie Recommendation System"
      ],
      "metadata": {
        "id": "ipkFxgD2CdfC"
      }
    },
    {
      "cell_type": "markdown",
      "source": [
        "## Load Datasets"
      ],
      "metadata": {
        "id": "ahx_qyJuClEu"
      }
    },
    {
      "cell_type": "code",
      "execution_count": 1,
      "metadata": {
        "colab": {
          "base_uri": "https://localhost:8080/",
          "height": 90
        },
        "id": "TFoM3YLUCMqm",
        "outputId": "d712b57b-b0d7-43b9-f6a8-4f0cc786fb0d"
      },
      "outputs": [
        {
          "output_type": "display_data",
          "data": {
            "text/plain": [
              "<IPython.core.display.HTML object>"
            ],
            "text/html": [
              "\n",
              "     <input type=\"file\" id=\"files-6e75ff72-a476-411d-bf95-758cc994960f\" name=\"files[]\" multiple disabled\n",
              "        style=\"border:none\" />\n",
              "     <output id=\"result-6e75ff72-a476-411d-bf95-758cc994960f\">\n",
              "      Upload widget is only available when the cell has been executed in the\n",
              "      current browser session. Please rerun this cell to enable.\n",
              "      </output>\n",
              "      <script>// Copyright 2017 Google LLC\n",
              "//\n",
              "// Licensed under the Apache License, Version 2.0 (the \"License\");\n",
              "// you may not use this file except in compliance with the License.\n",
              "// You may obtain a copy of the License at\n",
              "//\n",
              "//      http://www.apache.org/licenses/LICENSE-2.0\n",
              "//\n",
              "// Unless required by applicable law or agreed to in writing, software\n",
              "// distributed under the License is distributed on an \"AS IS\" BASIS,\n",
              "// WITHOUT WARRANTIES OR CONDITIONS OF ANY KIND, either express or implied.\n",
              "// See the License for the specific language governing permissions and\n",
              "// limitations under the License.\n",
              "\n",
              "/**\n",
              " * @fileoverview Helpers for google.colab Python module.\n",
              " */\n",
              "(function(scope) {\n",
              "function span(text, styleAttributes = {}) {\n",
              "  const element = document.createElement('span');\n",
              "  element.textContent = text;\n",
              "  for (const key of Object.keys(styleAttributes)) {\n",
              "    element.style[key] = styleAttributes[key];\n",
              "  }\n",
              "  return element;\n",
              "}\n",
              "\n",
              "// Max number of bytes which will be uploaded at a time.\n",
              "const MAX_PAYLOAD_SIZE = 100 * 1024;\n",
              "\n",
              "function _uploadFiles(inputId, outputId) {\n",
              "  const steps = uploadFilesStep(inputId, outputId);\n",
              "  const outputElement = document.getElementById(outputId);\n",
              "  // Cache steps on the outputElement to make it available for the next call\n",
              "  // to uploadFilesContinue from Python.\n",
              "  outputElement.steps = steps;\n",
              "\n",
              "  return _uploadFilesContinue(outputId);\n",
              "}\n",
              "\n",
              "// This is roughly an async generator (not supported in the browser yet),\n",
              "// where there are multiple asynchronous steps and the Python side is going\n",
              "// to poll for completion of each step.\n",
              "// This uses a Promise to block the python side on completion of each step,\n",
              "// then passes the result of the previous step as the input to the next step.\n",
              "function _uploadFilesContinue(outputId) {\n",
              "  const outputElement = document.getElementById(outputId);\n",
              "  const steps = outputElement.steps;\n",
              "\n",
              "  const next = steps.next(outputElement.lastPromiseValue);\n",
              "  return Promise.resolve(next.value.promise).then((value) => {\n",
              "    // Cache the last promise value to make it available to the next\n",
              "    // step of the generator.\n",
              "    outputElement.lastPromiseValue = value;\n",
              "    return next.value.response;\n",
              "  });\n",
              "}\n",
              "\n",
              "/**\n",
              " * Generator function which is called between each async step of the upload\n",
              " * process.\n",
              " * @param {string} inputId Element ID of the input file picker element.\n",
              " * @param {string} outputId Element ID of the output display.\n",
              " * @return {!Iterable<!Object>} Iterable of next steps.\n",
              " */\n",
              "function* uploadFilesStep(inputId, outputId) {\n",
              "  const inputElement = document.getElementById(inputId);\n",
              "  inputElement.disabled = false;\n",
              "\n",
              "  const outputElement = document.getElementById(outputId);\n",
              "  outputElement.innerHTML = '';\n",
              "\n",
              "  const pickedPromise = new Promise((resolve) => {\n",
              "    inputElement.addEventListener('change', (e) => {\n",
              "      resolve(e.target.files);\n",
              "    });\n",
              "  });\n",
              "\n",
              "  const cancel = document.createElement('button');\n",
              "  inputElement.parentElement.appendChild(cancel);\n",
              "  cancel.textContent = 'Cancel upload';\n",
              "  const cancelPromise = new Promise((resolve) => {\n",
              "    cancel.onclick = () => {\n",
              "      resolve(null);\n",
              "    };\n",
              "  });\n",
              "\n",
              "  // Wait for the user to pick the files.\n",
              "  const files = yield {\n",
              "    promise: Promise.race([pickedPromise, cancelPromise]),\n",
              "    response: {\n",
              "      action: 'starting',\n",
              "    }\n",
              "  };\n",
              "\n",
              "  cancel.remove();\n",
              "\n",
              "  // Disable the input element since further picks are not allowed.\n",
              "  inputElement.disabled = true;\n",
              "\n",
              "  if (!files) {\n",
              "    return {\n",
              "      response: {\n",
              "        action: 'complete',\n",
              "      }\n",
              "    };\n",
              "  }\n",
              "\n",
              "  for (const file of files) {\n",
              "    const li = document.createElement('li');\n",
              "    li.append(span(file.name, {fontWeight: 'bold'}));\n",
              "    li.append(span(\n",
              "        `(${file.type || 'n/a'}) - ${file.size} bytes, ` +\n",
              "        `last modified: ${\n",
              "            file.lastModifiedDate ? file.lastModifiedDate.toLocaleDateString() :\n",
              "                                    'n/a'} - `));\n",
              "    const percent = span('0% done');\n",
              "    li.appendChild(percent);\n",
              "\n",
              "    outputElement.appendChild(li);\n",
              "\n",
              "    const fileDataPromise = new Promise((resolve) => {\n",
              "      const reader = new FileReader();\n",
              "      reader.onload = (e) => {\n",
              "        resolve(e.target.result);\n",
              "      };\n",
              "      reader.readAsArrayBuffer(file);\n",
              "    });\n",
              "    // Wait for the data to be ready.\n",
              "    let fileData = yield {\n",
              "      promise: fileDataPromise,\n",
              "      response: {\n",
              "        action: 'continue',\n",
              "      }\n",
              "    };\n",
              "\n",
              "    // Use a chunked sending to avoid message size limits. See b/62115660.\n",
              "    let position = 0;\n",
              "    do {\n",
              "      const length = Math.min(fileData.byteLength - position, MAX_PAYLOAD_SIZE);\n",
              "      const chunk = new Uint8Array(fileData, position, length);\n",
              "      position += length;\n",
              "\n",
              "      const base64 = btoa(String.fromCharCode.apply(null, chunk));\n",
              "      yield {\n",
              "        response: {\n",
              "          action: 'append',\n",
              "          file: file.name,\n",
              "          data: base64,\n",
              "        },\n",
              "      };\n",
              "\n",
              "      let percentDone = fileData.byteLength === 0 ?\n",
              "          100 :\n",
              "          Math.round((position / fileData.byteLength) * 100);\n",
              "      percent.textContent = `${percentDone}% done`;\n",
              "\n",
              "    } while (position < fileData.byteLength);\n",
              "  }\n",
              "\n",
              "  // All done.\n",
              "  yield {\n",
              "    response: {\n",
              "      action: 'complete',\n",
              "    }\n",
              "  };\n",
              "}\n",
              "\n",
              "scope.google = scope.google || {};\n",
              "scope.google.colab = scope.google.colab || {};\n",
              "scope.google.colab._files = {\n",
              "  _uploadFiles,\n",
              "  _uploadFilesContinue,\n",
              "};\n",
              "})(self);\n",
              "</script> "
            ]
          },
          "metadata": {}
        },
        {
          "output_type": "stream",
          "name": "stdout",
          "text": [
            "Saving kaggle.json to kaggle.json\n"
          ]
        },
        {
          "output_type": "execute_result",
          "data": {
            "text/plain": [
              "{'kaggle.json': b'{\"username\":\"alirezarahhmati\",\"key\":\"73be1ed3ad085330a3f4400239645139\"}'}"
            ]
          },
          "metadata": {},
          "execution_count": 1
        }
      ],
      "source": [
        "from google.colab import files\n",
        "\n",
        "files.upload()"
      ]
    },
    {
      "cell_type": "code",
      "source": [
        "! mkdir ~/.kaggle\n",
        "! cp kaggle.json ~/.kaggle/\n",
        "! chmod 600 ~/.kaggle/kaggle.json"
      ],
      "metadata": {
        "id": "ga3IMpuKCuCs"
      },
      "execution_count": 2,
      "outputs": []
    },
    {
      "cell_type": "code",
      "source": [
        "! kaggle datasets download -d rounakbanik/the-movies-dataset"
      ],
      "metadata": {
        "colab": {
          "base_uri": "https://localhost:8080/"
        },
        "id": "lyUxhaDaCxDY",
        "outputId": "a56c0514-2d88-4bd2-87b2-ba7318a72044"
      },
      "execution_count": 3,
      "outputs": [
        {
          "output_type": "stream",
          "name": "stdout",
          "text": [
            "Downloading the-movies-dataset.zip to /content\n",
            " 96% 218M/228M [00:01<00:00, 124MB/s]\n",
            "100% 228M/228M [00:01<00:00, 132MB/s]\n"
          ]
        }
      ]
    },
    {
      "cell_type": "code",
      "source": [
        "! unzip /content/the-movies-dataset.zip -d /content/the_movies_dataset"
      ],
      "metadata": {
        "colab": {
          "base_uri": "https://localhost:8080/"
        },
        "id": "Av6d5jKvCycZ",
        "outputId": "771a3bec-6def-476e-eb7b-8db1dcdb7f6c"
      },
      "execution_count": 4,
      "outputs": [
        {
          "output_type": "stream",
          "name": "stdout",
          "text": [
            "Archive:  /content/the-movies-dataset.zip\n",
            "  inflating: /content/the_movies_dataset/credits.csv  \n",
            "  inflating: /content/the_movies_dataset/keywords.csv  \n",
            "  inflating: /content/the_movies_dataset/links.csv  \n",
            "  inflating: /content/the_movies_dataset/links_small.csv  \n",
            "  inflating: /content/the_movies_dataset/movies_metadata.csv  \n",
            "  inflating: /content/the_movies_dataset/ratings.csv  \n",
            "  inflating: /content/the_movies_dataset/ratings_small.csv  \n"
          ]
        }
      ]
    },
    {
      "cell_type": "markdown",
      "source": [
        "## Content Based"
      ],
      "metadata": {
        "id": "xG6lHOz-DChD"
      }
    },
    {
      "cell_type": "code",
      "source": [
        "import pandas as pd\n",
        "\n",
        "df1 = pd.read_csv('/content/the_movies_dataset/movies_metadata.csv')\n",
        "df2 = pd.read_csv('/content/the_movies_dataset/credits.csv')\n",
        "df3 = pd.read_csv('/content/the_movies_dataset/keywords.csv')"
      ],
      "metadata": {
        "colab": {
          "base_uri": "https://localhost:8080/"
        },
        "id": "efg4hxPTMPcD",
        "outputId": "160aa18c-3a81-46b6-e5d9-4f25232e554d"
      },
      "execution_count": 1,
      "outputs": [
        {
          "output_type": "stream",
          "name": "stderr",
          "text": [
            "<ipython-input-1-5950206d3575>:3: DtypeWarning: Columns (10) have mixed types. Specify dtype option on import or set low_memory=False.\n",
            "  df1 = pd.read_csv('/content/the_movies_dataset/movies_metadata.csv')\n"
          ]
        }
      ]
    },
    {
      "cell_type": "code",
      "source": [
        "# Convert the 'id' column in both datasets to a common data type if needed\n",
        "df1['id'] = df1['id'].astype(str)\n",
        "df2['id'] = df2['id'].astype(str)\n",
        "df3['id'] = df3['id'].astype(str)\n",
        "\n",
        "# Concatenate the datasets based on the 'id' column\n",
        "df2 = pd.merge(df1, df2, on='id')\n",
        "\n",
        "df2 = pd.merge(df2, df3, on='id')"
      ],
      "metadata": {
        "id": "Ngi3ckQfM-tk"
      },
      "execution_count": 2,
      "outputs": []
    },
    {
      "cell_type": "code",
      "source": [
        "df2 = df2.dropna(subset = ['cast', 'crew', 'genres', 'title', 'keywords', 'overview'])"
      ],
      "metadata": {
        "id": "o_c1V_oqQpfQ"
      },
      "execution_count": 3,
      "outputs": []
    },
    {
      "cell_type": "code",
      "source": [
        "!pip install datasketch"
      ],
      "metadata": {
        "colab": {
          "base_uri": "https://localhost:8080/"
        },
        "id": "6X6hqJwfyR5U",
        "outputId": "3cf62a9e-81de-4ce2-c560-f68685f6ae75"
      },
      "execution_count": 4,
      "outputs": [
        {
          "output_type": "stream",
          "name": "stdout",
          "text": [
            "Requirement already satisfied: datasketch in /usr/local/lib/python3.10/dist-packages (1.5.9)\n",
            "Requirement already satisfied: numpy>=1.11 in /usr/local/lib/python3.10/dist-packages (from datasketch) (1.22.4)\n",
            "Requirement already satisfied: scipy>=1.0.0 in /usr/local/lib/python3.10/dist-packages (from datasketch) (1.10.1)\n"
          ]
        }
      ]
    },
    {
      "cell_type": "code",
      "source": [
        "import pandas as pd\n",
        "import numpy as np\n",
        "from ast import literal_eval\n",
        "from sklearn.feature_extraction.text import CountVectorizer\n",
        "from sklearn.metrics.pairwise import cosine_similarity\n",
        "from datasketch import MinHash, MinHashLSHForest"
      ],
      "metadata": {
        "id": "5QHCb-xuzxQJ"
      },
      "execution_count": 5,
      "outputs": []
    },
    {
      "cell_type": "code",
      "source": [
        "# Parse the stringified features into their corresponding python objects\n",
        "features = ['cast', 'crew', 'genres', 'keywords']\n",
        "for feature in features:\n",
        "    df2[feature] = df2[feature].apply(literal_eval)"
      ],
      "metadata": {
        "id": "Ul9y6m90zzZM"
      },
      "execution_count": 6,
      "outputs": []
    },
    {
      "cell_type": "code",
      "source": [
        "def get_director(x):\n",
        "    for i in x:\n",
        "        if i['job'] == 'Director':\n",
        "            return i['name']\n",
        "    return np.nan\n",
        "\n",
        "def get_list(x):\n",
        "    if isinstance(x, list):\n",
        "        names = []\n",
        "        for item in x:\n",
        "            if isinstance(item, dict) and 'name' in item:\n",
        "                names.append(item['name'])\n",
        "        if len(names) > 3:\n",
        "            names = names[:3]\n",
        "        return names\n",
        "    return []\n",
        "\n",
        "def clean_data(x):\n",
        "    if isinstance(x, list):\n",
        "        cleaned_list = []\n",
        "        for i in x:\n",
        "            if isinstance(i, str):\n",
        "                cleaned_list.append(str.lower(i.replace(\" \", \"\")))\n",
        "        return cleaned_list\n",
        "    elif isinstance(x, str):\n",
        "        return str.lower(x.replace(\" \", \"\"))\n",
        "    else:\n",
        "        return ''"
      ],
      "metadata": {
        "id": "2d3AXV1Zz4OG"
      },
      "execution_count": 7,
      "outputs": []
    },
    {
      "cell_type": "code",
      "source": [
        "def scale_popularity(x):\n",
        "    if isinstance(x, int):\n",
        "        return np.log(1 + x)  # Apply logarithmic transformation to integer values\n",
        "    elif isinstance(x, str):\n",
        "        try:\n",
        "            x = int(x)  # Convert string to integer\n",
        "            return np.log(1 + x)\n",
        "        except ValueError:\n",
        "            return 0  # Return 0 if the string cannot be converted to an integer\n",
        "    return 0\n"
      ],
      "metadata": {
        "id": "zjFnUka9-9tO"
      },
      "execution_count": 10,
      "outputs": []
    },
    {
      "cell_type": "code",
      "source": [
        "df2['popularity_scaled'] = df2['popularity'].apply(scale_popularity)"
      ],
      "metadata": {
        "id": "Jj9fznHI_BFi"
      },
      "execution_count": 11,
      "outputs": []
    },
    {
      "cell_type": "code",
      "source": [
        "# Define new director, cast, genres and keywords features that are in a suitable form.\n",
        "df2['director'] = df2['crew'].apply(get_director)\n",
        "\n",
        "features = ['cast', 'genres', 'keywords']\n",
        "for feature in features:\n",
        "    df2[feature] = df2[feature].apply(get_list)"
      ],
      "metadata": {
        "id": "OmF6_6MXK205"
      },
      "execution_count": 12,
      "outputs": []
    },
    {
      "cell_type": "code",
      "source": [
        "# Apply data cleaning functions\n",
        "features = ['cast', 'genres', 'director', 'keywords']\n",
        "for feature in features:\n",
        "    df2[feature] = df2[feature].apply(clean_data)"
      ],
      "metadata": {
        "id": "elrWCg5az828"
      },
      "execution_count": 13,
      "outputs": []
    },
    {
      "cell_type": "code",
      "source": [
        "def create_soup(x):\n",
        "    return ' '.join(x['keywords']) + ' ' + ' '.join(x['cast']) + ' ' + x['director'] + ' ' + ' '.join(x['genres']) + ' ' + ' '.join(x['production_companies']) + ' ' + str(x['popularity_scaled'])\n",
        "df2['soup'] = df2.apply(create_soup, axis=1)"
      ],
      "metadata": {
        "id": "cEE6vV_5z_Kl"
      },
      "execution_count": 14,
      "outputs": []
    },
    {
      "cell_type": "code",
      "source": [
        "# Initialize CountVectorizer and create the count matrix\n",
        "count = CountVectorizer(stop_words='english')\n",
        "count_matrix = count.fit_transform(df2['soup'])"
      ],
      "metadata": {
        "id": "UL5UkVmo0BbH"
      },
      "execution_count": 15,
      "outputs": []
    },
    {
      "cell_type": "code",
      "source": [
        "# Compute MinHash signatures for each document\n",
        "minhashes = []\n",
        "for i in range(count_matrix.shape[0]):\n",
        "    minhash = MinHash(num_perm=128)\n",
        "    for j in count_matrix[i].indices:\n",
        "        minhash.update(str(j).encode('utf-8'))\n",
        "    minhashes.append(minhash)"
      ],
      "metadata": {
        "id": "MWNJyUEX0D7b"
      },
      "execution_count": 16,
      "outputs": []
    },
    {
      "cell_type": "code",
      "source": [
        "# Build the LSH Forest index\n",
        "forest = MinHashLSHForest(num_perm=128)\n",
        "for i, minhash in enumerate(minhashes):\n",
        "    forest.add(i, minhash)\n",
        "forest.index()"
      ],
      "metadata": {
        "id": "F_A8a2eS0F6U"
      },
      "execution_count": 17,
      "outputs": []
    },
    {
      "cell_type": "code",
      "source": [
        "# Function to find similar movies using LSH\n",
        "def get_recommendations(title1, title2, title3, num_results):\n",
        "    # Compute the MinHash signaturefor the query movie\n",
        "    query_minhash = MinHash(num_perm=128)\n",
        "    query_matrix = count.transform([title1, title2, title3])\n",
        "    for j in query_matrix.indices:\n",
        "        query_minhash.update(str(j).encode('utf-8'))\n",
        "\n",
        "    # Query the LSH Forest for similar movies\n",
        "    result_indices = forest.query(query_minhash, num_results)\n",
        "\n",
        "    # Return the titles of the similar movies\n",
        "    return df2['title'].iloc[result_indices]"
      ],
      "metadata": {
        "id": "JY3ZRR3j0JTN"
      },
      "execution_count": 18,
      "outputs": []
    },
    {
      "cell_type": "code",
      "source": [
        "# Example usage\n",
        "get_recommendations('Inception', 'Interstellar', 'Shutter Island', 10)"
      ],
      "metadata": {
        "colab": {
          "base_uri": "https://localhost:8080/"
        },
        "id": "kCE1gR4-x72Y",
        "outputId": "79ccaece-3926-4196-cfa9-d1dd01417282"
      },
      "execution_count": 19,
      "outputs": [
        {
          "output_type": "execute_result",
          "data": {
            "text/plain": [
              "24171                          Boom!\n",
              "38630       And Then There Were None\n",
              "38933              Giovanni's Island\n",
              "44485                Planet Earth II\n",
              "39365          The Angry Birds Movie\n",
              "41501      Under The Sign Of Scorpio\n",
              "17215                Love & Savagery\n",
              "11888                  The Condemned\n",
              "39769                    The Sea Bat\n",
              "21856    Princess Protection Program\n",
              "Name: title, dtype: object"
            ]
          },
          "metadata": {},
          "execution_count": 19
        }
      ]
    },
    {
      "cell_type": "markdown",
      "source": [
        "## Collaborative Filtering"
      ],
      "metadata": {
        "id": "le641lV13_6w"
      }
    },
    {
      "cell_type": "code",
      "source": [
        "import pandas as pd\n",
        "from surprise import Dataset, Reader\n",
        "from surprise import KNNBasic\n",
        "from surprise.model_selection import train_test_split\n"
      ],
      "metadata": {
        "id": "X235a07t4Th5"
      },
      "execution_count": 9,
      "outputs": []
    },
    {
      "cell_type": "code",
      "source": [
        "# Assuming your dataset is stored in a CSV file named 'ratings.csv'\n",
        "data = pd.read_csv('/content/the_movies_dataset/ratings.csv')\n",
        "\n",
        "# Define the reader object for Surprise library\n",
        "reader = Reader(rating_scale=(1, 5))\n",
        "\n",
        "# Load the dataset from pandas DataFrame using the reader object\n",
        "dataset = Dataset.load_from_df(data[['userId', 'movieId', 'rating']], reader)"
      ],
      "metadata": {
        "id": "HikbQ0Hj54Jq"
      },
      "execution_count": 10,
      "outputs": []
    },
    {
      "cell_type": "code",
      "source": [
        "# Split the dataset into training and testing sets (80% for training, 20% for testing)\n",
        "trainset, testset = train_test_split(dataset, test_size=0.2, random_state=42)\n"
      ],
      "metadata": {
        "id": "BgpaP7dY6GvI"
      },
      "execution_count": 11,
      "outputs": []
    },
    {
      "cell_type": "code",
      "source": [
        "# Define the Collaborative Filtering algorithm (KNNBasic)\n",
        "algo = KNNBasic()\n",
        "\n",
        "# Train the model on the training set\n",
        "algo.fit(trainset)\n"
      ],
      "metadata": {
        "id": "YjrQjcQS6I5c"
      },
      "execution_count": null,
      "outputs": []
    },
    {
      "cell_type": "code",
      "source": [
        "# Get predictions for the test set\n",
        "predictions = algo.test(testset)\n",
        "\n",
        "# Compute the accuracy or any other evaluation metric\n",
        "accuracy = accuracy.rmse(predictions)\n"
      ],
      "metadata": {
        "id": "VThSCiPm6LLl"
      },
      "execution_count": null,
      "outputs": []
    },
    {
      "cell_type": "code",
      "source": [
        "# Assuming you want to generate recommendations for a specific user with ID 1\n",
        "user_id = 1\n",
        "\n",
        "# Get the list of all movie IDs\n",
        "movie_ids = dataset.df['movieId'].unique()\n",
        "\n",
        "# Remove the movies that the user has already rated\n",
        "rated_movies = dataset.df.loc[dataset.df['userId'] == user_id, 'movieId'].tolist()\n",
        "available_movies = [movie_id for movie_id in movie_ids if movie_id not in rated_movies]\n",
        "\n",
        "# Predict ratings for the user and get top recommendations\n",
        "top_n = 10  # Number of recommendations to generate\n",
        "user_predictions = [algo.predict(user_id, movie_id) for movie_id in available_movies]\n",
        "top_recommendations = sorted(user_predictions, key=lambda x: x.est, reverse=True)[:top_n]\n",
        "\n",
        "# Print the top recommendations\n",
        "for recommendation in top_recommendations:\n",
        "    print(f\"Movie ID: {recommendation.iid}, Estimated Rating: {recommendation.est}\")\n"
      ],
      "metadata": {
        "id": "QYi-pSBp6N10"
      },
      "execution_count": null,
      "outputs": []
    }
  ]
}