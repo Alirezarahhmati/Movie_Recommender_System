{
 "cells": [
  {
   "cell_type": "code",
   "execution_count": 1,
   "id": "ebf320e0",
   "metadata": {
    "_cell_guid": "b1076dfc-b9ad-4769-8c92-a6c4dae69d19",
    "_uuid": "8f2839f25d086af736a60e9eeb907d3b93b6e0e5",
    "execution": {
     "iopub.execute_input": "2023-07-05T12:12:53.084896Z",
     "iopub.status.busy": "2023-07-05T12:12:53.084250Z",
     "iopub.status.idle": "2023-07-05T12:12:53.104205Z",
     "shell.execute_reply": "2023-07-05T12:12:53.103339Z"
    },
    "papermill": {
     "duration": 0.031614,
     "end_time": "2023-07-05T12:12:53.107183",
     "exception": false,
     "start_time": "2023-07-05T12:12:53.075569",
     "status": "completed"
    },
    "tags": []
   },
   "outputs": [
    {
     "name": "stdout",
     "output_type": "stream",
     "text": [
      "/kaggle/input/the-movies-dataset/ratings.csv\n",
      "/kaggle/input/the-movies-dataset/links_small.csv\n",
      "/kaggle/input/the-movies-dataset/credits.csv\n",
      "/kaggle/input/the-movies-dataset/keywords.csv\n",
      "/kaggle/input/the-movies-dataset/movies_metadata.csv\n",
      "/kaggle/input/the-movies-dataset/ratings_small.csv\n",
      "/kaggle/input/the-movies-dataset/links.csv\n"
     ]
    }
   ],
   "source": [
    "# This Python 3 environment comes with many helpful analytics libraries installed\n",
    "# It is defined by the kaggle/python Docker image: https://github.com/kaggle/docker-python\n",
    "# For example, here's several helpful packages to load\n",
    "\n",
    "import numpy as np # linear algebra\n",
    "import pandas as pd # data processing, CSV file I/O (e.g. pd.read_csv)\n",
    "\n",
    "# Input data files are available in the read-only \"../input/\" directory\n",
    "# For example, running this (by clicking run or pressing Shift+Enter) will list all files under the input directory\n",
    "\n",
    "import os\n",
    "for dirname, _, filenames in os.walk('/kaggle/input'):\n",
    "    for filename in filenames:\n",
    "        print(os.path.join(dirname, filename))\n",
    "\n",
    "# You can write up to 20GB to the current directory (/kaggle/working/) that gets preserved as output when you create a version using \"Save & Run All\" \n",
    "# You can also write temporary files to /kaggle/temp/, but they won't be saved outside of the current session"
   ]
  },
  {
   "cell_type": "code",
   "execution_count": 2,
   "id": "b7e218ea",
   "metadata": {
    "execution": {
     "iopub.execute_input": "2023-07-05T12:12:53.123251Z",
     "iopub.status.busy": "2023-07-05T12:12:53.122525Z",
     "iopub.status.idle": "2023-07-05T12:12:54.577912Z",
     "shell.execute_reply": "2023-07-05T12:12:54.576648Z"
    },
    "papermill": {
     "duration": 1.466527,
     "end_time": "2023-07-05T12:12:54.580823",
     "exception": false,
     "start_time": "2023-07-05T12:12:53.114296",
     "status": "completed"
    },
    "tags": []
   },
   "outputs": [],
   "source": [
    "import pandas as pd\n",
    "import numpy as np\n",
    "import matplotlib.pyplot as plt\n",
    "import seaborn as sns\n",
    "import json\n",
    "import csv\n",
    "from ast import literal_eval\n",
    "import ast"
   ]
  },
  {
   "cell_type": "code",
   "execution_count": 3,
   "id": "094188ab",
   "metadata": {
    "execution": {
     "iopub.execute_input": "2023-07-05T12:12:54.596013Z",
     "iopub.status.busy": "2023-07-05T12:12:54.595623Z",
     "iopub.status.idle": "2023-07-05T12:12:54.788732Z",
     "shell.execute_reply": "2023-07-05T12:12:54.787567Z"
    },
    "papermill": {
     "duration": 0.203992,
     "end_time": "2023-07-05T12:12:54.791532",
     "exception": false,
     "start_time": "2023-07-05T12:12:54.587540",
     "status": "completed"
    },
    "tags": []
   },
   "outputs": [],
   "source": [
    "df = pd.read_csv('/kaggle/input/the-movies-dataset/keywords.csv')"
   ]
  },
  {
   "cell_type": "code",
   "execution_count": 4,
   "id": "7656441d",
   "metadata": {
    "execution": {
     "iopub.execute_input": "2023-07-05T12:12:54.806816Z",
     "iopub.status.busy": "2023-07-05T12:12:54.806424Z",
     "iopub.status.idle": "2023-07-05T12:12:54.839149Z",
     "shell.execute_reply": "2023-07-05T12:12:54.837934Z"
    },
    "papermill": {
     "duration": 0.043747,
     "end_time": "2023-07-05T12:12:54.842005",
     "exception": false,
     "start_time": "2023-07-05T12:12:54.798258",
     "status": "completed"
    },
    "tags": []
   },
   "outputs": [
    {
     "data": {
      "text/html": [
       "<div>\n",
       "<style scoped>\n",
       "    .dataframe tbody tr th:only-of-type {\n",
       "        vertical-align: middle;\n",
       "    }\n",
       "\n",
       "    .dataframe tbody tr th {\n",
       "        vertical-align: top;\n",
       "    }\n",
       "\n",
       "    .dataframe thead th {\n",
       "        text-align: right;\n",
       "    }\n",
       "</style>\n",
       "<table border=\"1\" class=\"dataframe\">\n",
       "  <thead>\n",
       "    <tr style=\"text-align: right;\">\n",
       "      <th></th>\n",
       "      <th>id</th>\n",
       "      <th>keywords</th>\n",
       "    </tr>\n",
       "  </thead>\n",
       "  <tbody>\n",
       "    <tr>\n",
       "      <th>0</th>\n",
       "      <td>862</td>\n",
       "      <td>[{'id': 931, 'name': 'jealousy'}, {'id': 4290,...</td>\n",
       "    </tr>\n",
       "    <tr>\n",
       "      <th>1</th>\n",
       "      <td>8844</td>\n",
       "      <td>[{'id': 10090, 'name': 'board game'}, {'id': 1...</td>\n",
       "    </tr>\n",
       "    <tr>\n",
       "      <th>2</th>\n",
       "      <td>15602</td>\n",
       "      <td>[{'id': 1495, 'name': 'fishing'}, {'id': 12392...</td>\n",
       "    </tr>\n",
       "    <tr>\n",
       "      <th>3</th>\n",
       "      <td>31357</td>\n",
       "      <td>[{'id': 818, 'name': 'based on novel'}, {'id':...</td>\n",
       "    </tr>\n",
       "    <tr>\n",
       "      <th>4</th>\n",
       "      <td>11862</td>\n",
       "      <td>[{'id': 1009, 'name': 'baby'}, {'id': 1599, 'n...</td>\n",
       "    </tr>\n",
       "    <tr>\n",
       "      <th>...</th>\n",
       "      <td>...</td>\n",
       "      <td>...</td>\n",
       "    </tr>\n",
       "    <tr>\n",
       "      <th>46414</th>\n",
       "      <td>439050</td>\n",
       "      <td>[{'id': 10703, 'name': 'tragic love'}]</td>\n",
       "    </tr>\n",
       "    <tr>\n",
       "      <th>46415</th>\n",
       "      <td>111109</td>\n",
       "      <td>[{'id': 2679, 'name': 'artist'}, {'id': 14531,...</td>\n",
       "    </tr>\n",
       "    <tr>\n",
       "      <th>46416</th>\n",
       "      <td>67758</td>\n",
       "      <td>[]</td>\n",
       "    </tr>\n",
       "    <tr>\n",
       "      <th>46417</th>\n",
       "      <td>227506</td>\n",
       "      <td>[]</td>\n",
       "    </tr>\n",
       "    <tr>\n",
       "      <th>46418</th>\n",
       "      <td>461257</td>\n",
       "      <td>[]</td>\n",
       "    </tr>\n",
       "  </tbody>\n",
       "</table>\n",
       "<p>46419 rows × 2 columns</p>\n",
       "</div>"
      ],
      "text/plain": [
       "           id                                           keywords\n",
       "0         862  [{'id': 931, 'name': 'jealousy'}, {'id': 4290,...\n",
       "1        8844  [{'id': 10090, 'name': 'board game'}, {'id': 1...\n",
       "2       15602  [{'id': 1495, 'name': 'fishing'}, {'id': 12392...\n",
       "3       31357  [{'id': 818, 'name': 'based on novel'}, {'id':...\n",
       "4       11862  [{'id': 1009, 'name': 'baby'}, {'id': 1599, 'n...\n",
       "...       ...                                                ...\n",
       "46414  439050             [{'id': 10703, 'name': 'tragic love'}]\n",
       "46415  111109  [{'id': 2679, 'name': 'artist'}, {'id': 14531,...\n",
       "46416   67758                                                 []\n",
       "46417  227506                                                 []\n",
       "46418  461257                                                 []\n",
       "\n",
       "[46419 rows x 2 columns]"
      ]
     },
     "execution_count": 4,
     "metadata": {},
     "output_type": "execute_result"
    }
   ],
   "source": [
    "df"
   ]
  },
  {
   "cell_type": "code",
   "execution_count": 5,
   "id": "56abb8cc",
   "metadata": {
    "execution": {
     "iopub.execute_input": "2023-07-05T12:12:54.858681Z",
     "iopub.status.busy": "2023-07-05T12:12:54.858241Z",
     "iopub.status.idle": "2023-07-05T12:12:54.865151Z",
     "shell.execute_reply": "2023-07-05T12:12:54.864130Z"
    },
    "papermill": {
     "duration": 0.018344,
     "end_time": "2023-07-05T12:12:54.867572",
     "exception": false,
     "start_time": "2023-07-05T12:12:54.849228",
     "status": "completed"
    },
    "tags": []
   },
   "outputs": [
    {
     "data": {
      "text/plain": [
       "(46419, 2)"
      ]
     },
     "execution_count": 5,
     "metadata": {},
     "output_type": "execute_result"
    }
   ],
   "source": [
    "df.shape"
   ]
  },
  {
   "cell_type": "code",
   "execution_count": 6,
   "id": "8377fab8",
   "metadata": {
    "execution": {
     "iopub.execute_input": "2023-07-05T12:12:54.885840Z",
     "iopub.status.busy": "2023-07-05T12:12:54.885408Z",
     "iopub.status.idle": "2023-07-05T12:12:54.905316Z",
     "shell.execute_reply": "2023-07-05T12:12:54.904014Z"
    },
    "papermill": {
     "duration": 0.032065,
     "end_time": "2023-07-05T12:12:54.908548",
     "exception": false,
     "start_time": "2023-07-05T12:12:54.876483",
     "status": "completed"
    },
    "tags": []
   },
   "outputs": [
    {
     "data": {
      "text/plain": [
       "141971    3\n",
       "159849    3\n",
       "105045    2\n",
       "255396    2\n",
       "85729     2\n",
       "         ..\n",
       "55135     1\n",
       "15877     1\n",
       "72272     1\n",
       "1549      1\n",
       "461257    1\n",
       "Name: id, Length: 45432, dtype: int64"
      ]
     },
     "execution_count": 6,
     "metadata": {},
     "output_type": "execute_result"
    }
   ],
   "source": [
    "df['id'].value_counts()"
   ]
  },
  {
   "cell_type": "code",
   "execution_count": 7,
   "id": "33e63fc5",
   "metadata": {
    "execution": {
     "iopub.execute_input": "2023-07-05T12:12:54.925805Z",
     "iopub.status.busy": "2023-07-05T12:12:54.925347Z",
     "iopub.status.idle": "2023-07-05T12:12:54.946392Z",
     "shell.execute_reply": "2023-07-05T12:12:54.945261Z"
    },
    "papermill": {
     "duration": 0.032874,
     "end_time": "2023-07-05T12:12:54.948918",
     "exception": false,
     "start_time": "2023-07-05T12:12:54.916044",
     "status": "completed"
    },
    "tags": []
   },
   "outputs": [],
   "source": [
    "df = df[df['keywords'] != '[]']"
   ]
  },
  {
   "cell_type": "code",
   "execution_count": 8,
   "id": "75a0454b",
   "metadata": {
    "execution": {
     "iopub.execute_input": "2023-07-05T12:12:54.966005Z",
     "iopub.status.busy": "2023-07-05T12:12:54.964884Z",
     "iopub.status.idle": "2023-07-05T12:12:54.970125Z",
     "shell.execute_reply": "2023-07-05T12:12:54.969398Z"
    },
    "papermill": {
     "duration": 0.01585,
     "end_time": "2023-07-05T12:12:54.972207",
     "exception": false,
     "start_time": "2023-07-05T12:12:54.956357",
     "status": "completed"
    },
    "tags": []
   },
   "outputs": [],
   "source": [
    "df.reset_index(inplace=True)"
   ]
  },
  {
   "cell_type": "code",
   "execution_count": 9,
   "id": "6b46d437",
   "metadata": {
    "execution": {
     "iopub.execute_input": "2023-07-05T12:12:54.988894Z",
     "iopub.status.busy": "2023-07-05T12:12:54.988158Z",
     "iopub.status.idle": "2023-07-05T12:12:54.999585Z",
     "shell.execute_reply": "2023-07-05T12:12:54.998672Z"
    },
    "papermill": {
     "duration": 0.022721,
     "end_time": "2023-07-05T12:12:55.002251",
     "exception": false,
     "start_time": "2023-07-05T12:12:54.979530",
     "status": "completed"
    },
    "tags": []
   },
   "outputs": [
    {
     "name": "stderr",
     "output_type": "stream",
     "text": [
      "/tmp/ipykernel_20/491857587.py:1: SettingWithCopyWarning: \n",
      "A value is trying to be set on a copy of a slice from a DataFrame\n",
      "\n",
      "See the caveats in the documentation: https://pandas.pydata.org/pandas-docs/stable/user_guide/indexing.html#returning-a-view-versus-a-copy\n",
      "  df.drop(['index'], axis = 1, inplace = True)\n"
     ]
    }
   ],
   "source": [
    "df.drop(['index'], axis = 1, inplace = True)"
   ]
  },
  {
   "cell_type": "code",
   "execution_count": 10,
   "id": "53022b75",
   "metadata": {
    "execution": {
     "iopub.execute_input": "2023-07-05T12:12:55.019017Z",
     "iopub.status.busy": "2023-07-05T12:12:55.018511Z",
     "iopub.status.idle": "2023-07-05T12:12:55.040642Z",
     "shell.execute_reply": "2023-07-05T12:12:55.039503Z"
    },
    "papermill": {
     "duration": 0.033192,
     "end_time": "2023-07-05T12:12:55.042890",
     "exception": false,
     "start_time": "2023-07-05T12:12:55.009698",
     "status": "completed"
    },
    "tags": []
   },
   "outputs": [
    {
     "data": {
      "text/plain": [
       "id          0\n",
       "keywords    0\n",
       "dtype: int64"
      ]
     },
     "execution_count": 10,
     "metadata": {},
     "output_type": "execute_result"
    }
   ],
   "source": [
    "df.isnull().sum()"
   ]
  },
  {
   "cell_type": "code",
   "execution_count": 11,
   "id": "28a8f13a",
   "metadata": {
    "execution": {
     "iopub.execute_input": "2023-07-05T12:12:55.059828Z",
     "iopub.status.busy": "2023-07-05T12:12:55.059139Z",
     "iopub.status.idle": "2023-07-05T12:12:55.066814Z",
     "shell.execute_reply": "2023-07-05T12:12:55.065617Z"
    },
    "papermill": {
     "duration": 0.018913,
     "end_time": "2023-07-05T12:12:55.069308",
     "exception": false,
     "start_time": "2023-07-05T12:12:55.050395",
     "status": "completed"
    },
    "tags": []
   },
   "outputs": [
    {
     "data": {
      "text/plain": [
       "'[{\\'id\\': 10090, \\'name\\': \\'board game\\'}, {\\'id\\': 10941, \\'name\\': \\'disappearance\\'}, {\\'id\\': 15101, \\'name\\': \"based on children\\'s book\"}, {\\'id\\': 33467, \\'name\\': \\'new home\\'}, {\\'id\\': 158086, \\'name\\': \\'recluse\\'}, {\\'id\\': 158091, \\'name\\': \\'giant insect\\'}]'"
      ]
     },
     "execution_count": 11,
     "metadata": {},
     "output_type": "execute_result"
    }
   ],
   "source": [
    "df.keywords[1]"
   ]
  },
  {
   "cell_type": "code",
   "execution_count": 12,
   "id": "7653cf27",
   "metadata": {
    "execution": {
     "iopub.execute_input": "2023-07-05T12:12:55.086579Z",
     "iopub.status.busy": "2023-07-05T12:12:55.086190Z",
     "iopub.status.idle": "2023-07-05T12:12:55.092205Z",
     "shell.execute_reply": "2023-07-05T12:12:55.091094Z"
    },
    "papermill": {
     "duration": 0.01735,
     "end_time": "2023-07-05T12:12:55.094405",
     "exception": false,
     "start_time": "2023-07-05T12:12:55.077055",
     "status": "completed"
    },
    "tags": []
   },
   "outputs": [],
   "source": [
    "def to_dict(x):\n",
    "    if isinstance(x, str) == True:\n",
    "        lst = ast.literal_eval(x)\n",
    "        return lst\n",
    "    else:\n",
    "        return np.nan"
   ]
  },
  {
   "cell_type": "code",
   "execution_count": 13,
   "id": "73a24185",
   "metadata": {
    "execution": {
     "iopub.execute_input": "2023-07-05T12:12:55.112358Z",
     "iopub.status.busy": "2023-07-05T12:12:55.111136Z",
     "iopub.status.idle": "2023-07-05T12:12:57.608970Z",
     "shell.execute_reply": "2023-07-05T12:12:57.607657Z"
    },
    "papermill": {
     "duration": 2.50993,
     "end_time": "2023-07-05T12:12:57.612003",
     "exception": false,
     "start_time": "2023-07-05T12:12:55.102073",
     "status": "completed"
    },
    "tags": []
   },
   "outputs": [
    {
     "name": "stderr",
     "output_type": "stream",
     "text": [
      "/tmp/ipykernel_20/2999955300.py:1: SettingWithCopyWarning: \n",
      "A value is trying to be set on a copy of a slice from a DataFrame.\n",
      "Try using .loc[row_indexer,col_indexer] = value instead\n",
      "\n",
      "See the caveats in the documentation: https://pandas.pydata.org/pandas-docs/stable/user_guide/indexing.html#returning-a-view-versus-a-copy\n",
      "  df[\"keywords\"] = df[\"keywords\"].apply(lambda x: to_dict(x))\n"
     ]
    }
   ],
   "source": [
    "df[\"keywords\"] = df[\"keywords\"].apply(lambda x: to_dict(x))"
   ]
  },
  {
   "cell_type": "code",
   "execution_count": 14,
   "id": "42e1f619",
   "metadata": {
    "execution": {
     "iopub.execute_input": "2023-07-05T12:12:57.629764Z",
     "iopub.status.busy": "2023-07-05T12:12:57.628813Z",
     "iopub.status.idle": "2023-07-05T12:12:57.635577Z",
     "shell.execute_reply": "2023-07-05T12:12:57.634609Z"
    },
    "papermill": {
     "duration": 0.01809,
     "end_time": "2023-07-05T12:12:57.637960",
     "exception": false,
     "start_time": "2023-07-05T12:12:57.619870",
     "status": "completed"
    },
    "tags": []
   },
   "outputs": [],
   "source": [
    "def combine(x):\n",
    "    lst = []\n",
    "    if isinstance(x, list) == True:\n",
    "        for i in x:\n",
    "            lst.append(i['name'])\n",
    "        return '|'.join(lst)\n",
    "    else:\n",
    "        np.nan"
   ]
  },
  {
   "cell_type": "code",
   "execution_count": 15,
   "id": "f5aba526",
   "metadata": {
    "execution": {
     "iopub.execute_input": "2023-07-05T12:12:57.655343Z",
     "iopub.status.busy": "2023-07-05T12:12:57.654924Z",
     "iopub.status.idle": "2023-07-05T12:12:57.760712Z",
     "shell.execute_reply": "2023-07-05T12:12:57.758864Z"
    },
    "papermill": {
     "duration": 0.11739,
     "end_time": "2023-07-05T12:12:57.763311",
     "exception": false,
     "start_time": "2023-07-05T12:12:57.645921",
     "status": "completed"
    },
    "tags": []
   },
   "outputs": [
    {
     "name": "stderr",
     "output_type": "stream",
     "text": [
      "/tmp/ipykernel_20/3762050154.py:1: SettingWithCopyWarning: \n",
      "A value is trying to be set on a copy of a slice from a DataFrame.\n",
      "Try using .loc[row_indexer,col_indexer] = value instead\n",
      "\n",
      "See the caveats in the documentation: https://pandas.pydata.org/pandas-docs/stable/user_guide/indexing.html#returning-a-view-versus-a-copy\n",
      "  df[\"keywords\"] = df[\"keywords\"].apply(lambda x: combine(x))\n"
     ]
    }
   ],
   "source": [
    "df[\"keywords\"] = df[\"keywords\"].apply(lambda x: combine(x))"
   ]
  },
  {
   "cell_type": "code",
   "execution_count": 16,
   "id": "40d93fb7",
   "metadata": {
    "execution": {
     "iopub.execute_input": "2023-07-05T12:12:57.781658Z",
     "iopub.status.busy": "2023-07-05T12:12:57.781273Z",
     "iopub.status.idle": "2023-07-05T12:12:57.974091Z",
     "shell.execute_reply": "2023-07-05T12:12:57.972278Z"
    },
    "papermill": {
     "duration": 0.205055,
     "end_time": "2023-07-05T12:12:57.976697",
     "exception": false,
     "start_time": "2023-07-05T12:12:57.771642",
     "status": "completed"
    },
    "tags": []
   },
   "outputs": [
    {
     "name": "stderr",
     "output_type": "stream",
     "text": [
      "/tmp/ipykernel_20/102452983.py:1: SettingWithCopyWarning: \n",
      "A value is trying to be set on a copy of a slice from a DataFrame.\n",
      "Try using .loc[row_indexer,col_indexer] = value instead\n",
      "\n",
      "See the caveats in the documentation: https://pandas.pydata.org/pandas-docs/stable/user_guide/indexing.html#returning-a-view-versus-a-copy\n",
      "  df[\"keywords\"] = df[\"keywords\"].str.split('|')\n"
     ]
    }
   ],
   "source": [
    "df[\"keywords\"] = df[\"keywords\"].str.split('|')"
   ]
  },
  {
   "cell_type": "code",
   "execution_count": 17,
   "id": "8d152411",
   "metadata": {
    "execution": {
     "iopub.execute_input": "2023-07-05T12:12:57.994815Z",
     "iopub.status.busy": "2023-07-05T12:12:57.994442Z",
     "iopub.status.idle": "2023-07-05T12:12:58.010841Z",
     "shell.execute_reply": "2023-07-05T12:12:58.009718Z"
    },
    "papermill": {
     "duration": 0.028737,
     "end_time": "2023-07-05T12:12:58.013405",
     "exception": false,
     "start_time": "2023-07-05T12:12:57.984668",
     "status": "completed"
    },
    "tags": []
   },
   "outputs": [
    {
     "data": {
      "text/html": [
       "<div>\n",
       "<style scoped>\n",
       "    .dataframe tbody tr th:only-of-type {\n",
       "        vertical-align: middle;\n",
       "    }\n",
       "\n",
       "    .dataframe tbody tr th {\n",
       "        vertical-align: top;\n",
       "    }\n",
       "\n",
       "    .dataframe thead th {\n",
       "        text-align: right;\n",
       "    }\n",
       "</style>\n",
       "<table border=\"1\" class=\"dataframe\">\n",
       "  <thead>\n",
       "    <tr style=\"text-align: right;\">\n",
       "      <th></th>\n",
       "      <th>id</th>\n",
       "      <th>keywords</th>\n",
       "    </tr>\n",
       "  </thead>\n",
       "  <tbody>\n",
       "    <tr>\n",
       "      <th>0</th>\n",
       "      <td>862</td>\n",
       "      <td>[jealousy, toy, boy, friendship, friends, riva...</td>\n",
       "    </tr>\n",
       "    <tr>\n",
       "      <th>1</th>\n",
       "      <td>8844</td>\n",
       "      <td>[board game, disappearance, based on children'...</td>\n",
       "    </tr>\n",
       "    <tr>\n",
       "      <th>2</th>\n",
       "      <td>15602</td>\n",
       "      <td>[fishing, best friend, duringcreditsstinger, o...</td>\n",
       "    </tr>\n",
       "    <tr>\n",
       "      <th>3</th>\n",
       "      <td>31357</td>\n",
       "      <td>[based on novel, interracial relationship, sin...</td>\n",
       "    </tr>\n",
       "    <tr>\n",
       "      <th>4</th>\n",
       "      <td>11862</td>\n",
       "      <td>[baby, midlife crisis, confidence, aging, daug...</td>\n",
       "    </tr>\n",
       "    <tr>\n",
       "      <th>...</th>\n",
       "      <td>...</td>\n",
       "      <td>...</td>\n",
       "    </tr>\n",
       "    <tr>\n",
       "      <th>31619</th>\n",
       "      <td>84419</td>\n",
       "      <td>[revenge, murder, serial killer, new york city...</td>\n",
       "    </tr>\n",
       "    <tr>\n",
       "      <th>31620</th>\n",
       "      <td>390959</td>\n",
       "      <td>[blair witch]</td>\n",
       "    </tr>\n",
       "    <tr>\n",
       "      <th>31621</th>\n",
       "      <td>289923</td>\n",
       "      <td>[witch, mythology, legend, serial killer, mock...</td>\n",
       "    </tr>\n",
       "    <tr>\n",
       "      <th>31622</th>\n",
       "      <td>439050</td>\n",
       "      <td>[tragic love]</td>\n",
       "    </tr>\n",
       "    <tr>\n",
       "      <th>31623</th>\n",
       "      <td>111109</td>\n",
       "      <td>[artist, play, pinoy]</td>\n",
       "    </tr>\n",
       "  </tbody>\n",
       "</table>\n",
       "<p>31624 rows × 2 columns</p>\n",
       "</div>"
      ],
      "text/plain": [
       "           id                                           keywords\n",
       "0         862  [jealousy, toy, boy, friendship, friends, riva...\n",
       "1        8844  [board game, disappearance, based on children'...\n",
       "2       15602  [fishing, best friend, duringcreditsstinger, o...\n",
       "3       31357  [based on novel, interracial relationship, sin...\n",
       "4       11862  [baby, midlife crisis, confidence, aging, daug...\n",
       "...       ...                                                ...\n",
       "31619   84419  [revenge, murder, serial killer, new york city...\n",
       "31620  390959                                      [blair witch]\n",
       "31621  289923  [witch, mythology, legend, serial killer, mock...\n",
       "31622  439050                                      [tragic love]\n",
       "31623  111109                              [artist, play, pinoy]\n",
       "\n",
       "[31624 rows x 2 columns]"
      ]
     },
     "execution_count": 17,
     "metadata": {},
     "output_type": "execute_result"
    }
   ],
   "source": [
    "df"
   ]
  },
  {
   "cell_type": "code",
   "execution_count": 18,
   "id": "85e823df",
   "metadata": {
    "execution": {
     "iopub.execute_input": "2023-07-05T12:12:58.032149Z",
     "iopub.status.busy": "2023-07-05T12:12:58.031751Z",
     "iopub.status.idle": "2023-07-05T12:12:58.293126Z",
     "shell.execute_reply": "2023-07-05T12:12:58.292207Z"
    },
    "papermill": {
     "duration": 0.273931,
     "end_time": "2023-07-05T12:12:58.295782",
     "exception": false,
     "start_time": "2023-07-05T12:12:58.021851",
     "status": "completed"
    },
    "tags": []
   },
   "outputs": [],
   "source": [
    "df.to_csv('keywords_edited.csv')"
   ]
  },
  {
   "cell_type": "code",
   "execution_count": null,
   "id": "e4160d9b",
   "metadata": {
    "papermill": {
     "duration": 0.007842,
     "end_time": "2023-07-05T12:12:58.311867",
     "exception": false,
     "start_time": "2023-07-05T12:12:58.304025",
     "status": "completed"
    },
    "tags": []
   },
   "outputs": [],
   "source": []
  }
 ],
 "metadata": {
  "kernelspec": {
   "display_name": "Python 3",
   "language": "python",
   "name": "python3"
  },
  "language_info": {
   "codemirror_mode": {
    "name": "ipython",
    "version": 3
   },
   "file_extension": ".py",
   "mimetype": "text/x-python",
   "name": "python",
   "nbconvert_exporter": "python",
   "pygments_lexer": "ipython3",
   "version": "3.10.10"
  },
  "papermill": {
   "default_parameters": {},
   "duration": 19.922549,
   "end_time": "2023-07-05T12:12:59.343416",
   "environment_variables": {},
   "exception": null,
   "input_path": "__notebook__.ipynb",
   "output_path": "__notebook__.ipynb",
   "parameters": {},
   "start_time": "2023-07-05T12:12:39.420867",
   "version": "2.4.0"
  }
 },
 "nbformat": 4,
 "nbformat_minor": 5
}
